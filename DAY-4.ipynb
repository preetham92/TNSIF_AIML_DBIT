{
 "cells": [
  {
   "cell_type": "code",
   "execution_count": 3,
   "id": "bde9c5f0-c813-4274-9d01-e31e151c48c1",
   "metadata": {},
   "outputs": [
    {
     "name": "stdout",
     "output_type": "stream",
     "text": [
      "{'charan': 9108397821, 'kiran': 8863689696, 'kushal': 8926276892}\n"
     ]
    },
    {
     "name": "stdin",
     "output_type": "stream",
     "text": [
      "Enter the contact name to be updated:  kushal\n",
      "Enter new phone number 8893283829\n"
     ]
    }
   ],
   "source": [
    "phone_book = { 'charan':9108397821,'kiran':8863689696,'kushal':8926276892}\n",
    "print(phone_book)\n",
    "update = input(\"Enter the contact name to be updated: \")\n",
    "phone_no = int(input(\"Enter new phone number\"))\n",
    "if key == update:\n",
    "    phone_book[key] = phone_no\n",
    "else:\n",
    "    print(\"Name not found\")"
   ]
  },
  {
   "cell_type": "code",
   "execution_count": 7,
   "id": "9667ab57-47eb-4d13-8147-032cb50da414",
   "metadata": {},
   "outputs": [
    {
     "name": "stdout",
     "output_type": "stream",
     "text": [
      "{'charan': 9108397821, 'kiran': 8863689696, 'kushal': 8926276892}\n",
      "{'charan': 9108397821, 'kiran': 8863689696, 'kushal': 8926276892, 'dinesh': 2892476372, 'dinesh s': 829374828}\n"
     ]
    }
   ],
   "source": [
    "phone_book = { 'charan':9108397821,'kiran':8863689696,'kushal':8926276892}\n",
    "print(phone_book)\n",
    "phone_book['dinesh'] = 2892476372\n",
    "phone_book.update({'dinesh s':829374828})\n",
    "print(phone_book)\n"
   ]
  },
  {
   "cell_type": "code",
   "execution_count": 12,
   "id": "b9eb7dcc-ac14-40bb-949c-debb9ca63ab0",
   "metadata": {},
   "outputs": [
    {
     "name": "stdin",
     "output_type": "stream",
     "text": [
      "Enter the name to delete kushal\n"
     ]
    },
    {
     "name": "stdout",
     "output_type": "stream",
     "text": [
      "{'charan': 9108397821, 'kiran': 8863689696}\n"
     ]
    }
   ],
   "source": [
    "phone_book = { 'charan':9108397821,'kiran':8863689696,'kushal':8926276892}\n",
    "name = input(\"Enter the name to delete\")\n",
    "if name in phone_book:\n",
    "    del phone_book[name]\n",
    "print(phone_book)\n"
   ]
  },
  {
   "cell_type": "code",
   "execution_count": null,
   "id": "1dc7d609-bc09-4175-8650-d87d561f9d43",
   "metadata": {},
   "outputs": [],
   "source": [
    "dict.clear()\n",
    "dict.update(dict2) #add dict2's key value pair to dict---- like  a concatination"
   ]
  },
  {
   "cell_type": "code",
   "execution_count": null,
   "id": "822cdb6c-0a6f-4272-b75c-75d6e6d19331",
   "metadata": {},
   "outputs": [],
   "source": []
  }
 ],
 "metadata": {
  "kernelspec": {
   "display_name": "Python 3 (ipykernel)",
   "language": "python",
   "name": "python3"
  },
  "language_info": {
   "codemirror_mode": {
    "name": "ipython",
    "version": 3
   },
   "file_extension": ".py",
   "mimetype": "text/x-python",
   "name": "python",
   "nbconvert_exporter": "python",
   "pygments_lexer": "ipython3",
   "version": "3.13.5"
  }
 },
 "nbformat": 4,
 "nbformat_minor": 5
}
