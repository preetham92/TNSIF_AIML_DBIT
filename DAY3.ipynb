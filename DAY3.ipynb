{
 "cells": [
  {
   "cell_type": "code",
   "execution_count": 5,
   "id": "50ba8daa-5950-4804-be08-2b2bb7a3f8f1",
   "metadata": {},
   "outputs": [
    {
     "name": "stdin",
     "output_type": "stream",
     "text": [
      "enter the number: 1\n",
      "enter the number: 2\n",
      "enter the number: 3\n",
      "enter the number: 4\n",
      "enter the number: 5\n",
      "enter the number: 6\n",
      "enter the number: 7\n",
      "enter the number: 8\n",
      "enter the number: 9\n",
      "enter the number: 10\n"
     ]
    },
    {
     "name": "stdout",
     "output_type": "stream",
     "text": [
      "[2, 4, 6, 8, 10]\n"
     ]
    }
   ],
   "source": [
    "li = []\n",
    "for i in range(10):\n",
    "    num = int(input(\"enter the number:\"))\n",
    "    li.append(num)\n",
    "              \n",
    "li.pop(2)\n",
    "for num in li:\n",
    "    if num % 2 != 0:\n",
    "       li.remove(num)\n",
    "print(li)\n",
    "              \n",
    "  "
   ]
  },
  {
   "cell_type": "code",
   "execution_count": null,
   "id": "e07fb048-4a71-4e6d-ae0f-666f4dd95544",
   "metadata": {},
   "outputs": [],
   "source": []
  }
 ],
 "metadata": {
  "kernelspec": {
   "display_name": "Python 3 (ipykernel)",
   "language": "python",
   "name": "python3"
  },
  "language_info": {
   "codemirror_mode": {
    "name": "ipython",
    "version": 3
   },
   "file_extension": ".py",
   "mimetype": "text/x-python",
   "name": "python",
   "nbconvert_exporter": "python",
   "pygments_lexer": "ipython3",
   "version": "3.13.5"
  }
 },
 "nbformat": 4,
 "nbformat_minor": 5
}
