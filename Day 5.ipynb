{
 "cells": [
  {
   "cell_type": "markdown",
   "id": "c447963e",
   "metadata": {},
   "source": [
    "## Tuples"
   ]
  },
  {
   "cell_type": "markdown",
   "id": "52541341",
   "metadata": {},
   "source": [
    "A tuple is a finite sequence or ordered list of elements. In mathematics, an n-tuple is a tuple with n elements, where n is a non-negative integer. For example, (2, 7, 4, 1, 7) is a 5-tuple. Tuples are usually written with parentheses and elements separated by commas."
   ]
  },
  {
   "cell_type": "code",
   "execution_count": 3,
   "id": "7505d68b",
   "metadata": {},
   "outputs": [],
   "source": [
    "tup1 =  (1, 2, 3, 4)"
   ]
  },
  {
   "cell_type": "code",
   "execution_count": 13,
   "id": "23ccf4c6",
   "metadata": {},
   "outputs": [
    {
     "data": {
      "text/plain": [
       "tuple"
      ]
     },
     "execution_count": 13,
     "metadata": {},
     "output_type": "execute_result"
    }
   ],
   "source": [
    "tup = (3,)\n",
    "\n",
    "# It will throw an error\n",
    "# tup = (,)\n",
    "\n",
    "\n",
    "tup = ()\n",
    "type(tup)"
   ]
  },
  {
   "cell_type": "code",
   "execution_count": 15,
   "id": "a45a5a1e",
   "metadata": {},
   "outputs": [
    {
     "data": {
      "text/plain": [
       "(1, 2, 3, 4)"
      ]
     },
     "execution_count": 15,
     "metadata": {},
     "output_type": "execute_result"
    }
   ],
   "source": [
    "# Creating the Tuple\n",
    "tup = tuple([1, 2, 3,4])\n",
    "tup"
   ]
  },
  {
   "cell_type": "code",
   "execution_count": 16,
   "id": "f95ae681",
   "metadata": {},
   "outputs": [
    {
     "data": {
      "text/plain": [
       "(1, 2, 3, 4, 5, 7, 10)"
      ]
     },
     "execution_count": 16,
     "metadata": {},
     "output_type": "execute_result"
    }
   ],
   "source": [
    "# Concatanation\n",
    "\n",
    "tup = (1, 2, 3, 4, 5)\n",
    "tup = tup+(7, )\n",
    "tup += (10, )\n",
    "tup"
   ]
  },
  {
   "cell_type": "code",
   "execution_count": 18,
   "id": "27d8110c",
   "metadata": {},
   "outputs": [
    {
     "name": "stdout",
     "output_type": "stream",
     "text": [
      "Enter no of Employees:  5\n",
      "Enter the 0th Employee Salary: 1\n",
      "Enter the 1th Employee Salary: 2\n",
      "Enter the 2th Employee Salary: 3\n",
      "Enter the 3th Employee Salary: 4\n",
      "Enter the 4th Employee Salary: 5\n",
      "Maximum salary among all the employee is: 5\n",
      "Minimum salary among all the employee is: 1\n"
     ]
    }
   ],
   "source": [
    "#Write a python program to input ‘n’ employee salaries and find the minimum and maximum salary amongst ‘n’ employees.\n",
    "\n",
    "Salaries = []\n",
    "n = int(input(\"Enter no of Employees:  \"))\n",
    "\n",
    "for i in range(0, n):\n",
    "    salary = int(input(f\"Enter the {i}th Employee Salary: \"))\n",
    "    Salaries.append(salary)\n",
    "\n",
    "tup_sal = tuple(Salaries)\n",
    "print(f\"Maximum salary among all the employee is:\", max(tup_sal))\n",
    "print(f\"Minimum salary among all the employee is:\", min(tup_sal))\n"
   ]
  },
  {
   "cell_type": "code",
   "execution_count": 20,
   "id": "7db9d3fc",
   "metadata": {},
   "outputs": [
    {
     "name": "stdout",
     "output_type": "stream",
     "text": [
      "2\n",
      "3\n",
      "1\n",
      "2\n",
      "3\n",
      "1\n",
      "2\n",
      "3\n",
      "1\n"
     ]
    }
   ],
   "source": [
    "## Repitation\n",
    "\n",
    "a = (1, 2, 3)\n",
    "a = a*3\n",
    "a\n",
    "\n",
    "# Iteration\n",
    "\n",
    "for i in a:\n",
    "    print(a[i])\n",
    "    \n",
    "# MemberShip\n",
    "\n"
   ]
  },
  {
   "cell_type": "code",
   "execution_count": 3,
   "id": "479f9c89",
   "metadata": {},
   "outputs": [
    {
     "name": "stdout",
     "output_type": "stream",
     "text": [
      "Enter the number of employees3\n",
      "Enter the name: S1\n",
      "Enter the number: 1\n",
      "Enter the name: S2\n",
      "Enter the number: 2\n",
      "Enter the name: S3\n",
      "Enter the number: 3\n",
      "\n",
      "\n",
      "Name: S1, Number: 1\n",
      "Name: S2, Number: 2\n",
      "Name: S3, Number: 3\n"
     ]
    }
   ],
   "source": [
    "# Write a program to input ‘n’ employee numbers and names and store them in a dictionary. Display dictionaries employee’s names(key) and numbers(values) together.\n",
    "\n",
    "emp = {}\n",
    "\n",
    "n = int(input(\"Enter the number of employees\"))\n",
    "\n",
    "for i in range(n):\n",
    "    name = input(\"Enter the name: \")\n",
    "    number = input(\"Enter the number: \")\n",
    "    \n",
    "    emp[name] = number\n",
    "\n",
    "print(\"\\n\")\n",
    "for name, number in emp.items():\n",
    "\n",
    "    print(f\"Name: {name}, Number: {number}\")\n"
   ]
  },
  {
   "cell_type": "code",
   "execution_count": null,
   "id": "c7835a19",
   "metadata": {},
   "outputs": [],
   "source": []
  }
 ],
 "metadata": {
  "kernelspec": {
   "display_name": "Python 3 (ipykernel)",
   "language": "python",
   "name": "python3"
  },
  "language_info": {
   "codemirror_mode": {
    "name": "ipython",
    "version": 3
   },
   "file_extension": ".py",
   "mimetype": "text/x-python",
   "name": "python",
   "nbconvert_exporter": "python",
   "pygments_lexer": "ipython3",
   "version": "3.9.13"
  }
 },
 "nbformat": 4,
 "nbformat_minor": 5
}
