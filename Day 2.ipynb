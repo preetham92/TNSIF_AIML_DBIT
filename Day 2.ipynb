{
 "cells": [
  {
   "cell_type": "markdown",
   "id": "24bcac42",
   "metadata": {},
   "source": [
    "## Looping Statements (Iterations)"
   ]
  },
  {
   "cell_type": "code",
   "execution_count": 3,
   "id": "9019ac12",
   "metadata": {},
   "outputs": [
    {
     "name": "stdout",
     "output_type": "stream",
     "text": [
      "Enter the input: 1\n",
      "1\n",
      "Enter the input: 23\n",
      "24\n",
      "Enter the input: 1344\n",
      "1368\n",
      "The sum is exeeded..\n"
     ]
    }
   ],
   "source": [
    "sum = 0\n",
    "while True:\n",
    "    sum += int(input(\"Enter the input: \"))\n",
    "    print(sum)\n",
    "    \n",
    "    if sum >= 300:\n",
    "        print(\"The sum is exeeded 300\")\n",
    "        break"
   ]
  },
  {
   "cell_type": "code",
   "execution_count": 5,
   "id": "2cc5a7b3",
   "metadata": {},
   "outputs": [
    {
     "name": "stdout",
     "output_type": "stream",
     "text": [
      "Enter a string: BOn\n",
      "Enter a string: Bon\n",
      "Voyage\n"
     ]
    }
   ],
   "source": [
    "while True:\n",
    "    string = input(\"Enter a string: \")\n",
    "    if string == \"Bon\":\n",
    "        print(\"Voyage\")\n",
    "        break"
   ]
  },
  {
   "cell_type": "code",
   "execution_count": 7,
   "id": "f63b84b8",
   "metadata": {},
   "outputs": [
    {
     "name": "stdout",
     "output_type": "stream",
     "text": [
      "Enter the Door Number: #1234\n",
      "Enter the street: sgg\n",
      "1234\n"
     ]
    }
   ],
   "source": [
    "door = input(\"Enter the Door Number: \")\n",
    "\n",
    "numbers = \"0123456789\"\n",
    "\n",
    "num = ''\n",
    "for i in door:\n",
    "    if i in numbers:\n",
    "        num += i\n",
    "    \n",
    "print(num)\n",
    "        "
   ]
  },
  {
   "cell_type": "markdown",
   "id": "d71b58bb",
   "metadata": {},
   "source": [
    "## Lists"
   ]
  },
  {
   "cell_type": "code",
   "execution_count": 13,
   "id": "291dd7f5",
   "metadata": {},
   "outputs": [
    {
     "name": "stdout",
     "output_type": "stream",
     "text": [
      "Enter the 0th element: a\n",
      "Enter the 1th element: a\n",
      "Enter the 2th element: a\n",
      "Enter the 3th element: a\n",
      "Enter the 4th element: a\n",
      "['a', 'a', 'a', 'a', 'a']\n",
      "Enter the 3rd element have to be replaced: b\n",
      "Enter the 5th element have to be replaced: b\n",
      "after replaced 3rd and 5th elements:  ['a', 'a', 'b', 'a', 'b']\n"
     ]
    }
   ],
   "source": [
    "elements = []\n",
    "for i in range(5):\n",
    "    elements += input(f\"Enter the {i}th element: \")\n",
    "\n",
    "print(elements)\n",
    "\n",
    "elements[2] = input(\"Enter the 3rd element have to be replaced: \")\n",
    "elements[4] = input(\"Enter the 5th element have to be replaced: \")\n",
    "\n",
    "print(f'after replaced 3rd and 5th elements: ', elements)\n"
   ]
  },
  {
   "cell_type": "code",
   "execution_count": 20,
   "id": "187c9650",
   "metadata": {
    "scrolled": false
   },
   "outputs": [
    {
     "name": "stdout",
     "output_type": "stream",
     "text": [
      "Enter how many elements to be inserted : 4\n",
      "Enter the 0th Element: 1\n",
      "Enter the 1th Element: 2\n",
      "Enter the 2th Element: 3\n",
      "Enter the 3th Element: 4\n",
      "['1', '2', '3', '4']\n",
      "Enter the index :6\n",
      "Enter the element wants to be inserted: 1\n",
      "The new element has been inserted ...\n",
      "['1', '2', '3', '4', '1']\n"
     ]
    }
   ],
   "source": [
    "li = []\n",
    "n = int(input(\"Enter how many elements to be inserted : \"))\n",
    "\n",
    "for i in range(n):\n",
    "    li += input(f\"Enter the {i}th Element: \")\n",
    "    \n",
    "print(li)\n",
    "\n",
    "index = int(input(\"Enter the index :\"))\n",
    "\n",
    "if index <= n:\n",
    "    element = input(\"Enter the element wants to be inserted: \")\n",
    "    li.insert(index, element)\n",
    "    print(\"The new element has been inserted ...\")\n",
    "    print(li)\n",
    "    \n",
    "else:\n",
    "    print(\"An index is out of range..\")\n",
    "    "
   ]
  },
  {
   "cell_type": "code",
   "execution_count": 7,
   "id": "5cdea32a",
   "metadata": {},
   "outputs": [
    {
     "name": "stdout",
     "output_type": "stream",
     "text": [
      "fn"
     ]
    }
   ],
   "source": [
    "# Print Only the consonents in the given word\n",
    "\n",
    "word = 'fan'\n",
    "vowels = ['a', 'e', 'e', 'i', 'o', 'u']\n",
    "\n",
    "for i in word:\n",
    "    if i in vowels:\n",
    "        continue\n",
    "    else:\n",
    "        print(i, end='')"
   ]
  },
  {
   "cell_type": "code",
   "execution_count": 12,
   "id": "2c95e28e",
   "metadata": {},
   "outputs": [],
   "source": [
    "# formatting the email address\n",
    "\n",
    "def format(email):\n",
    "    return email.replace('[dot]', '.').replace('[at]', '@')\n",
    "\n",
    "\n",
    "with open(\"fake_emails.txt\", \"r\") as f:\n",
    "    emails = f.readlines()\n",
    "\n",
    "with open(\"fixed_emails.txt\", \"w\") as f:\n",
    "    for e in emails:\n",
    "        f.write(format(e.strip()) + '\\n')"
   ]
  },
  {
   "cell_type": "code",
   "execution_count": null,
   "id": "6a9ce982",
   "metadata": {},
   "outputs": [],
   "source": []
  }
 ],
 "metadata": {
  "kernelspec": {
   "display_name": "Python 3 (ipykernel)",
   "language": "python",
   "name": "python3"
  },
  "language_info": {
   "codemirror_mode": {
    "name": "ipython",
    "version": 3
   },
   "file_extension": ".py",
   "mimetype": "text/x-python",
   "name": "python",
   "nbconvert_exporter": "python",
   "pygments_lexer": "ipython3",
   "version": "3.9.13"
  }
 },
 "nbformat": 4,
 "nbformat_minor": 5
}
